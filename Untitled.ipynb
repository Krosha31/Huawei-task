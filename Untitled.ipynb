{
 "cells": [
  {
   "cell_type": "markdown",
   "id": "92a5152a",
   "metadata": {},
   "source": [
    "# Решение задачи о фондовом рынке"
   ]
  },
  {
   "cell_type": "markdown",
   "id": "388259a3",
   "metadata": {},
   "source": [
    "По своей сути задача является полным аналогом знаметиной задачи о рюкзаке. В данной версии задачи используются вещественные значения в качестве весов(стоимость покупки акции), поэтому эта задача решается только полным перебором всех возможных вариантов(NP полные задачи на текущий момент неразрешимы за полиномиальное время). \n",
    "\n",
    "Сначала я пробовал написать перебор с отсечениями с помощью рекурсии, но вскоре стало ясно что восстановление ответа будет невозможным без колоссальных затрат по памяти. Поэтому я реализовал полный перебор по маске. \n",
    "\n",
    "Общая асимптотика алгоритма получилась  $O(2^N * N log(N))$. $О(Nlog(N))$ уходит на проверку оптимальности ответа. "
   ]
  },
  {
   "cell_type": "code",
   "execution_count": 1,
   "id": "6b66b564",
   "metadata": {},
   "outputs": [],
   "source": [
    "from numba import njit # jit компилятор для ускорения питон-кода\n",
    "import numba as nb \n",
    "import time"
   ]
  },
  {
   "cell_type": "code",
   "execution_count": 2,
   "id": "32ccb853",
   "metadata": {},
   "outputs": [],
   "source": [
    "@njit # ускорение функции\n",
    "def power_2_before_number(number: int) -> (int, int):\n",
    "    i = 1\n",
    "    k = 0\n",
    "    while (i * 2 <= number):\n",
    "        i *= 2\n",
    "        k += 1\n",
    "    return i, k"
   ]
  },
  {
   "cell_type": "code",
   "execution_count": 3,
   "id": "78a74bbe",
   "metadata": {},
   "outputs": [],
   "source": [
    "@njit\n",
    "def solve(summ:int, prices:list, counts:list) -> (int, list):\n",
    "\n",
    "    k = len(prices)\n",
    "\n",
    "    number_of_masks = pow(2, k)\n",
    "    ans = 0\n",
    "    ans_bought_lots = nb.typed.List()\n",
    "    bought_lots = nb.typed.List()\n",
    "    \n",
    "    for mask in range(number_of_masks):\n",
    "        summ_copy = summ\n",
    "        mask_copy = mask\n",
    "        \n",
    "        if mask == 0:\n",
    "            number = 0\n",
    "        else:\n",
    "            number, power_2 = power_2_before_number(mask)\n",
    "        ans_current = 0\n",
    "\n",
    "        while number != 0 and summ_copy >= 0:\n",
    "            summ_copy -= prices[power_2] * counts[power_2]\n",
    "            if summ_copy < 0:\n",
    "                break\n",
    "            ans_current += counts[power_2] * 30 - (prices[power_2] - 1000) * counts[power_2]\n",
    "            bought_lots.append(power_2)\n",
    "            mask_copy -= number\n",
    "            power_2 -= 1\n",
    "            number //= 2\n",
    "            \n",
    "            while number > mask_copy:\n",
    "                number //= 2\n",
    "                power_2 -= 1\n",
    "                \n",
    "        if summ_copy >= 0 and ans_current > ans:\n",
    "            ans = ans_current\n",
    "            ans_bought_lots.clear()\n",
    "            for item in bought_lots:\n",
    "                ans_bought_lots.append(item)\n",
    "        bought_lots.clear()\n",
    "\n",
    "    ans_bought_lots = ans_bought_lots[::-1]\n",
    "\n",
    "    return ans, ans_bought_lots"
   ]
  },
  {
   "cell_type": "code",
   "execution_count": 4,
   "id": "6c879d0b",
   "metadata": {},
   "outputs": [
    {
     "name": "stdout",
     "output_type": "stream",
     "text": [
      "25 1 8000\n",
      "1 a 108.82 4\n",
      "2 b 73.91 1\n",
      "3 c 129.35 5\n",
      "4 d 111.34 4\n",
      "5 e 125.08 4\n",
      "6 f 94.97 3\n",
      "7 g 111.92 4\n",
      "8 h 120.45 2\n",
      "9 i 95.44 4\n",
      "10 j 81.07 3\n",
      "11 k 115.57 1\n",
      "12 l 74.0 5\n",
      "13 m 70.47 5\n",
      "14 n 70.63 5\n",
      "15 o 80.88 2\n",
      "16 p 110.62 5\n",
      "17 q 83.46 5\n",
      "18 r 120.67 3\n",
      "19 s 71.67 2\n",
      "20 t 126.67 3\n",
      "21 u 127.05 1\n",
      "22 v 88.65 4\n",
      "23 w 126.84 4\n",
      "24 x 126.83 5\n",
      "25 y 123.18 5\n"
     ]
    }
   ],
   "source": [
    "with open('data.txt', 'r') as f:\n",
    "    data = f.read()\n",
    "print(data)\n",
    "\n",
    "data = data.split('\\n')"
   ]
  },
  {
   "cell_type": "markdown",
   "id": "83f1d4d7",
   "metadata": {},
   "source": [
    "25 сэмплов более чем достаточно для проверки алгоритма. Полнопереборное решение уже здесь требует много времени"
   ]
  },
  {
   "cell_type": "code",
   "execution_count": 5,
   "id": "fd59c18c",
   "metadata": {},
   "outputs": [
    {
     "ename": "NameError",
     "evalue": "name 'solve' is not defined",
     "output_type": "error",
     "traceback": [
      "\u001b[1;31m---------------------------------------------------------------------------\u001b[0m",
      "\u001b[1;31mNameError\u001b[0m                                 Traceback (most recent call last)",
      "Input \u001b[1;32mIn [5]\u001b[0m, in \u001b[0;36m<cell line: 16>\u001b[1;34m()\u001b[0m\n\u001b[0;32m     13\u001b[0m     prices[\u001b[38;5;241m-\u001b[39m\u001b[38;5;241m1\u001b[39m] \u001b[38;5;241m*\u001b[39m\u001b[38;5;241m=\u001b[39m \u001b[38;5;241m10\u001b[39m\n\u001b[0;32m     15\u001b[0m start \u001b[38;5;241m=\u001b[39m time\u001b[38;5;241m.\u001b[39mtime()\n\u001b[1;32m---> 16\u001b[0m ans, ans_bought_lots \u001b[38;5;241m=\u001b[39m \u001b[43msolve\u001b[49m(summ, prices, counts)\n\u001b[0;32m     17\u001b[0m end \u001b[38;5;241m=\u001b[39m time\u001b[38;5;241m.\u001b[39mtime() \u001b[38;5;241m-\u001b[39m start\n\u001b[0;32m     19\u001b[0m \u001b[38;5;28mprint\u001b[39m(ans)\n",
      "\u001b[1;31mNameError\u001b[0m: name 'solve' is not defined"
     ]
    }
   ],
   "source": [
    "days = nb.typed.List()\n",
    "names = nb.typed.List()\n",
    "prices = nb.typed.List()\n",
    "counts = nb.typed.List()\n",
    "\n",
    "n, m, summ = map(int, data[0].split())\n",
    "for req in data[1:]:\n",
    "    req = req.split()\n",
    "    days.append(int(req[0]))\n",
    "    names.append(req[1])\n",
    "    prices.append(float(req[2]))\n",
    "    counts.append(int(req[3]))\n",
    "    prices[-1] *= 10\n",
    "\n",
    "start = time.time()\n",
    "ans, ans_bought_lots = solve(summ, prices, counts)\n",
    "end = time.time() - start\n",
    "\n",
    "print(ans)\n",
    "for i in ans_bought_lots:\n",
    "    print(days[i], names[i], prices[i] // 10, counts[i])\n",
    "\n",
    "print(f'Time: {end}')"
   ]
  },
  {
   "cell_type": "markdown",
   "id": "d5ac0305",
   "metadata": {},
   "source": [
    "С помощью jit компилятора данный алгоритм отработал довольно быстро. Без jit этот же алгоритм работает за 111 секунд. Ускорение в 10 раз."
   ]
  },
  {
   "cell_type": "markdown",
   "id": "641b97d0",
   "metadata": {},
   "source": [
    "Приведу так же эвристический динамический алгоритм решения этой задачи. В нем я округляю цену, которую нужно заплатить за акции вверх, тем самым сводя эту задачу к подвиду рюкзака с интовыми весами. Асимптотика такого алгоритма будет $O(N*S)$\n",
    "Данный алгоритм довольно точен, так как мы, по сути, отбрасываем максимум 0.1% цены лота, что часто будет приводить к оптимальному решению:\n"
   ]
  },
  {
   "cell_type": "code",
   "execution_count": null,
   "id": "c0d776de",
   "metadata": {},
   "outputs": [],
   "source": [
    "from math import ceil\n",
    "\n",
    "def solve2(x:int, summ:int, prices:list, counts:list):\n",
    "    global dp\n",
    "    if x + 1 == len(prices):\n",
    "        return 0\n",
    "\n",
    "    answer = dp[x][summ]\n",
    "    if answer != -1:\n",
    "        return answer\n",
    "    answer = solve2(x + 1, summ, prices, counts)\n",
    "    if ceil(prices[x] * counts[x]) <= summ:\n",
    "        res = solve2(x + 1, summ - ceil(prices[x] * counts[x]), prices, counts)\n",
    "        answer = max(answer, res + counts[x] * 30 - (prices[x] - 1000) * counts[x])\n",
    "    dp[x][summ] = answer\n",
    "\n",
    "    return answer"
   ]
  },
  {
   "cell_type": "code",
   "execution_count": null,
   "id": "adfd17ad",
   "metadata": {},
   "outputs": [],
   "source": [
    "dp = n * [[-1] * (summ + 1)]\n",
    "\n",
    "start = time.time()\n",
    "ans = solve2(0, summ, prices, counts)\n",
    "end = time.time() - start\n",
    "print(ans)\n",
    "print(f'Time: {end}')"
   ]
  },
  {
   "cell_type": "markdown",
   "id": "b80a37de",
   "metadata": {},
   "source": [
    "Как можно видеть, на данном тесте это решение выдает тот же ответ, что и полнопереборное, но затрачивает времени в сотни раз меньше(И это без jit компилятора). С ростом N отрыв будет все сильнее и сильнее увеличиваться.\n"
   ]
  },
  {
   "cell_type": "code",
   "execution_count": null,
   "id": "7ce482b4",
   "metadata": {},
   "outputs": [],
   "source": []
  }
 ],
 "metadata": {
  "kernelspec": {
   "display_name": "Python 3 (ipykernel)",
   "language": "python",
   "name": "python3"
  },
  "language_info": {
   "codemirror_mode": {
    "name": "ipython",
    "version": 3
   },
   "file_extension": ".py",
   "mimetype": "text/x-python",
   "name": "python",
   "nbconvert_exporter": "python",
   "pygments_lexer": "ipython3",
   "version": "3.10.0"
  }
 },
 "nbformat": 4,
 "nbformat_minor": 5
}
